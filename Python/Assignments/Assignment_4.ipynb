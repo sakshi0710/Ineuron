{
 "cells": [
  {
   "cell_type": "code",
   "execution_count": 4,
   "metadata": {},
   "outputs": [
    {
     "name": "stdout",
     "output_type": "stream",
     "text": [
      "enter the length to find the area12\n",
      "enter the length to find the area13\n",
      "enter the length to find the area14\n",
      "72.30793524918272\n"
     ]
    }
   ],
   "source": [
    "a= float(input(\"enter the length to find the area\"))\n",
    "b= float(input(\"enter the length to find the area\"))\n",
    "c= float(input(\"enter the length to find the area\"))\n",
    "\n",
    "class Triangle:\n",
    "    \n",
    "    def __init__(self, a,b,c):\n",
    "        self.a=a\n",
    "        self.b=b\n",
    "        self.c=c\n",
    "    \n",
    "class Calc_Area(Triangle):\n",
    "    def __init__(self, a,b,c):\n",
    "        super().__init__(a,b,c)\n",
    "        \n",
    "    \n",
    "    def get_area(self):\n",
    "        s = (a + b + c) / 2\n",
    "        area= (s*(s-a)*(s-b)*(s-c)) ** 0.5\n",
    "        return area\n",
    "  \n",
    "\n",
    "a1 = Calc_Area(a,b,c)\n",
    "print(a1.get_area())\n",
    "        "
   ]
  },
  {
   "cell_type": "code",
   "execution_count": 5,
   "metadata": {},
   "outputs": [
    {
     "name": "stdout",
     "output_type": "stream",
     "text": [
      "['sakshi', 'kashyap', 'Banana']\n"
     ]
    }
   ],
   "source": [
    "def filter_long_words(lst_word, n):\n",
    "    lst=[]\n",
    "    for l1 in lst_word:\n",
    "        if len(l1) > n:\n",
    "            lst.append(l1)\n",
    "    return lst\n",
    "lst_word=['sakshi', 'kashyap', 'Apple', 'mango', 'Banana']\n",
    "words=filter_long_words(lst_word, 5)   \n",
    "print(words)"
   ]
  },
  {
   "cell_type": "code",
   "execution_count": 11,
   "metadata": {},
   "outputs": [
    {
     "name": "stdout",
     "output_type": "stream",
     "text": [
      "[('sakshi', 6), ('kashyap', 7), ('Apple', 5), ('mango', 5), ('Banana', 6)]\n"
     ]
    }
   ],
   "source": [
    "def word_length_map(lst_word):\n",
    "    lst=[]\n",
    "    for l in lst_word:\n",
    "        lst.append((l, len(l)))\n",
    "    return lst\n",
    "lst_word=['sakshi', 'kashyap', 'Apple', 'mango', 'Banana']\n",
    "w= word_length_map(lst_word)\n",
    "print(w)"
   ]
  },
  {
   "cell_type": "code",
   "execution_count": 13,
   "metadata": {
    "scrolled": true
   },
   "outputs": [
    {
     "name": "stdout",
     "output_type": "stream",
     "text": [
      "enter the any letter:r\n",
      "False\n"
     ]
    }
   ],
   "source": [
    "v=['a','e','i','o','u']\n",
    "def vowels_consonant(s):\n",
    "    if s in v:\n",
    "        return True\n",
    "    else:\n",
    "        return False\n",
    "v1= input(\"enter the any letter:\") \n",
    "s1=vowels_consonant(v1)\n",
    "print(s1)"
   ]
  },
  {
   "cell_type": "code",
   "execution_count": 20,
   "metadata": {},
   "outputs": [
    {
     "name": "stdout",
     "output_type": "stream",
     "text": [
      "[6, 7, 5, 5, 6]\n"
     ]
    }
   ],
   "source": [
    "def map_to_lengths_map(lst_word):\n",
    "    return map(len, lst_word)\n",
    "lst_word=['sakshi', 'kashyap', 'Apple', 'mango', 'Banana']\n",
    "print (list(map_to_lengths_map(lst_word)))"
   ]
  },
  {
   "cell_type": "code",
   "execution_count": null,
   "metadata": {},
   "outputs": [],
   "source": []
  },
  {
   "cell_type": "code",
   "execution_count": null,
   "metadata": {},
   "outputs": [],
   "source": []
  }
 ],
 "metadata": {
  "kernelspec": {
   "display_name": "Python 3",
   "language": "python",
   "name": "python3"
  },
  "language_info": {
   "codemirror_mode": {
    "name": "ipython",
    "version": 3
   },
   "file_extension": ".py",
   "mimetype": "text/x-python",
   "name": "python",
   "nbconvert_exporter": "python",
   "pygments_lexer": "ipython3",
   "version": "3.8.3"
  }
 },
 "nbformat": 4,
 "nbformat_minor": 4
}
